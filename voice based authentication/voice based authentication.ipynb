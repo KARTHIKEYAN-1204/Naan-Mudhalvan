{
 "cells": [
  {
   "cell_type": "code",
   "execution_count": 8,
   "id": "ce9b8ceb-ea08-4054-9a3a-aa507932d69f",
   "metadata": {},
   "outputs": [
    {
     "name": "stdout",
     "output_type": "stream",
     "text": [
      "🎙️  Voice-Based Authentication System\n"
     ]
    },
    {
     "name": "stdin",
     "output_type": "stream",
     "text": [
      "Choose: [1] Enroll  [2] Authenticate:  2\n",
      "Enter username:  alice\n"
     ]
    },
    {
     "name": "stdout",
     "output_type": "stream",
     "text": [
      "Recording... Speak now.\n",
      "Recording complete.\n",
      "[i] Similarity score: 1.00\n",
      "[✔] Authentication successful!\n",
      "\n"
     ]
    }
   ],
   "source": [
    "import sounddevice as sd\n",
    "import librosa\n",
    "import numpy as np\n",
    "import scipy.io.wavfile as wav\n",
    "import os\n",
    "from sklearn.metrics.pairwise import cosine_similarity\n",
    "\n",
    "def record_voice(filename=\"temp.wav\", duration=3, fs=16000):\n",
    "    print(\"Recording... Speak now.\")\n",
    "    audio = sd.rec(int(duration * fs), samplerate=fs, channels=1, dtype='int16')\n",
    "    sd.wait()\n",
    "    wav.write(filename, fs, audio)\n",
    "    print(\"Recording complete.\")\n",
    "\n",
    "def extract_features(filename):\n",
    "    y, sr = librosa.load(filename, sr=None)\n",
    "    mfcc = librosa.feature.mfcc(y=y, sr=sr, n_mfcc=13)\n",
    "    return np.mean(mfcc.T, axis=0)\n",
    "\n",
    "def enroll_user(username):\n",
    "    filename = f\"{username}.wav\"\n",
    "    record_voice(filename)\n",
    "    features = extract_features(filename)\n",
    "    np.save(f\"{username}_voiceprint.npy\", features)\n",
    "    print(f\"[+] User '{username}' enrolled successfully.\\n\")\n",
    "\n",
    "def authenticate_user(username):\n",
    "    voiceprint_path = f\"{username}_voiceprint.npy\"\n",
    "    if not os.path.exists(voiceprint_path):\n",
    "        print(f\"[!] User '{username}' not enrolled. Please enroll first.\")\n",
    "        return\n",
    "\n",
    "    record_voice(\"test.wav\")\n",
    "    test_features = extract_features(\"test.wav\")\n",
    "    stored_features = np.load(voiceprint_path)\n",
    "\n",
    "    similarity = cosine_similarity([test_features], [stored_features])[0][0]\n",
    "    print(f\"[i] Similarity score: {similarity:.2f}\")\n",
    "\n",
    "    if similarity > 0.85:  # Threshold for successful match\n",
    "        print(\"[✔] Authentication successful!\\n\")\n",
    "    else:\n",
    "        print(\"[✘] Authentication failed. The voice input does not match the registered voice.\\n\")\n",
    "\n",
    "def main():\n",
    "    print(\"🎙️  Voice-Based Authentication System\")\n",
    "    \n",
    "    while True:\n",
    "        choice = input(\"Choose: [1] Enroll  [2] Authenticate: \")\n",
    "\n",
    "        if choice == \"1\":\n",
    "            username = input(\"Enter username: \").strip().lower()\n",
    "            enroll_user(username)\n",
    "            break\n",
    "        elif choice == \"2\":\n",
    "            username = input(\"Enter username: \").strip().lower()\n",
    "            authenticate_user(username)\n",
    "            break\n",
    "        else:\n",
    "            print(\"Invalid choice, please enter '1' to enroll or '2' to authenticate.\")\n",
    "\n",
    "if __name__ == \"__main__\":\n",
    "    main()\n"
   ]
  },
  {
   "cell_type": "code",
   "execution_count": null,
   "id": "bd83cb3c-e92b-4f5a-9399-f16405ff6517",
   "metadata": {},
   "outputs": [],
   "source": []
  }
 ],
 "metadata": {
  "kernelspec": {
   "display_name": "Python 3 (ipykernel)",
   "language": "python",
   "name": "python3"
  },
  "language_info": {
   "codemirror_mode": {
    "name": "ipython",
    "version": 3
   },
   "file_extension": ".py",
   "mimetype": "text/x-python",
   "name": "python",
   "nbconvert_exporter": "python",
   "pygments_lexer": "ipython3",
   "version": "3.12.3"
  }
 },
 "nbformat": 4,
 "nbformat_minor": 5
}
